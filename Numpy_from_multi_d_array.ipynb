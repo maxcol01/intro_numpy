{
 "cells": [
  {
   "cell_type": "code",
   "execution_count": 1,
   "id": "7f9902d7-c648-4f18-8389-344fd80736f5",
   "metadata": {},
   "outputs": [],
   "source": [
    "import numpy as np"
   ]
  },
  {
   "cell_type": "code",
   "execution_count": 5,
   "id": "35ff0854-1809-48e4-9f84-7649014c01ae",
   "metadata": {},
   "outputs": [
    {
     "data": {
      "text/plain": [
       "array([1, 2, 3])"
      ]
     },
     "execution_count": 5,
     "metadata": {},
     "output_type": "execute_result"
    }
   ],
   "source": [
    "# mutli dimensional arrays\n",
    "a1 = np.array([1, 2, 3])\n",
    "a1"
   ]
  },
  {
   "cell_type": "code",
   "execution_count": 9,
   "id": "4e662ddc-a622-4ad4-b7f9-1dea93c6dba2",
   "metadata": {},
   "outputs": [
    {
     "data": {
      "text/plain": [
       "(3,)"
      ]
     },
     "execution_count": 9,
     "metadata": {},
     "output_type": "execute_result"
    }
   ],
   "source": [
    "a1.shape # 1d array"
   ]
  },
  {
   "cell_type": "code",
   "execution_count": 11,
   "id": "12545194-57d3-4dbf-b88c-60784b204a76",
   "metadata": {},
   "outputs": [
    {
     "data": {
      "text/plain": [
       "array([[1, 2, 3],\n",
       "       [4, 5, 6]])"
      ]
     },
     "execution_count": 11,
     "metadata": {},
     "output_type": "execute_result"
    }
   ],
   "source": [
    "a1_m = np.array([[1,2,3],[4,5,6]])\n",
    "a1_m"
   ]
  },
  {
   "cell_type": "code",
   "execution_count": 15,
   "id": "12330557-6548-4d05-ab91-5c9432d6a4e7",
   "metadata": {},
   "outputs": [
    {
     "data": {
      "text/plain": [
       "(2, 3)"
      ]
     },
     "execution_count": 15,
     "metadata": {},
     "output_type": "execute_result"
    }
   ],
   "source": [
    "a1_m.shape #mutli dim array"
   ]
  },
  {
   "cell_type": "code",
   "execution_count": 17,
   "id": "1d88bde0-f5e0-4380-bf80-3c87cc67fbf0",
   "metadata": {},
   "outputs": [
    {
     "data": {
      "text/plain": [
       "array([[ 2,  4,  6],\n",
       "       [ 8, 10, 12]])"
      ]
     },
     "execution_count": 17,
     "metadata": {},
     "output_type": "execute_result"
    }
   ],
   "source": [
    "#operation:\n",
    "a1_m*2"
   ]
  },
  {
   "cell_type": "code",
   "execution_count": 21,
   "id": "15a86dea-27cf-4fe3-a050-7929e619b856",
   "metadata": {},
   "outputs": [
    {
     "data": {
      "text/plain": [
       "array([[2.        , 1.        , 0.66666667],\n",
       "       [0.5       , 0.4       , 0.33333333]])"
      ]
     },
     "execution_count": 21,
     "metadata": {},
     "output_type": "execute_result"
    }
   ],
   "source": [
    "2/a1_m # this will return an array but with element wise division"
   ]
  },
  {
   "cell_type": "code",
   "execution_count": 25,
   "id": "6208e74a-e055-45b0-8329-0fea7ffd4c2f",
   "metadata": {},
   "outputs": [
    {
     "data": {
      "text/plain": [
       "array([1, 2, 3, 4, 5, 6])"
      ]
     },
     "execution_count": 25,
     "metadata": {},
     "output_type": "execute_result"
    }
   ],
   "source": [
    "#turn any-nd array into 1d array -> .ravel()\n",
    "a1_m.ravel()"
   ]
  },
  {
   "cell_type": "code",
   "execution_count": 27,
   "id": "7fd6e9a0-e780-482f-adc0-ec8a2908ab7b",
   "metadata": {},
   "outputs": [
    {
     "data": {
      "text/plain": [
       "(6,)"
      ]
     },
     "execution_count": 27,
     "metadata": {},
     "output_type": "execute_result"
    }
   ],
   "source": [
    "a1_m.ravel().shape"
   ]
  },
  {
   "cell_type": "code",
   "execution_count": 29,
   "id": "40be1a0d-8482-4c95-ac97-5f0f0298a476",
   "metadata": {},
   "outputs": [
    {
     "data": {
      "text/plain": [
       "array([[False, False, False],\n",
       "       [False, False,  True]])"
      ]
     },
     "execution_count": 29,
     "metadata": {},
     "output_type": "execute_result"
    }
   ],
   "source": [
    "a1_m > 5 # boolean indexing"
   ]
  },
  {
   "cell_type": "code",
   "execution_count": 45,
   "id": "c896dd8f-1e46-4380-bd07-c1764fd2a684",
   "metadata": {},
   "outputs": [
    {
     "data": {
      "text/plain": [
       "array([[-0.11895662, -1.65054271,  1.0081503 ],\n",
       "       [ 2.9665071 ,  0.55183765,  0.03524356],\n",
       "       [-0.14503636,  0.31391315,  1.98910238]])"
      ]
     },
     "execution_count": 45,
     "metadata": {},
     "output_type": "execute_result"
    }
   ],
   "source": [
    "# Generate random nd array\n",
    "import random\n",
    "a11 = np.random.randn(3,3)*5\n",
    "a2 = np.random.randn(3,3)\n",
    "a2"
   ]
  },
  {
   "cell_type": "code",
   "execution_count": 47,
   "id": "3d11c7dc-afb1-41b2-8b97-3782fceaea84",
   "metadata": {},
   "outputs": [
    {
     "data": {
      "text/plain": [
       "array([[-8.32838368, -0.6700599 , -7.62112854],\n",
       "       [-3.71487761, -3.2365778 , 11.0076267 ],\n",
       "       [-3.80308717, -5.14906843,  2.51834149]])"
      ]
     },
     "execution_count": 47,
     "metadata": {},
     "output_type": "execute_result"
    }
   ],
   "source": [
    "a11"
   ]
  },
  {
   "cell_type": "code",
   "execution_count": 55,
   "id": "c694d96b-0279-4fad-9b93-f13c5f9c7148",
   "metadata": {},
   "outputs": [
    {
     "data": {
      "text/plain": [
       "array([[False, False, False],\n",
       "       [False, False,  True],\n",
       "       [False, False,  True]])"
      ]
     },
     "execution_count": 55,
     "metadata": {},
     "output_type": "execute_result"
    }
   ],
   "source": [
    "a11 > 2"
   ]
  },
  {
   "cell_type": "code",
   "execution_count": 59,
   "id": "ec38ea36-d19c-4d1c-b36b-d4f88ca71cf7",
   "metadata": {},
   "outputs": [
    {
     "data": {
      "text/plain": [
       "array([0.03524356, 1.98910238])"
      ]
     },
     "execution_count": 59,
     "metadata": {},
     "output_type": "execute_result"
    }
   ],
   "source": [
    "a2[a11 > 2] # so indexing an array with another array is possible (same size)"
   ]
  },
  {
   "cell_type": "code",
   "execution_count": 65,
   "id": "e0cc576f-1acc-4cc5-b400-f63e9bd82686",
   "metadata": {},
   "outputs": [
    {
     "data": {
      "text/plain": [
       "array([1, 2, 3])"
      ]
     },
     "execution_count": 65,
     "metadata": {},
     "output_type": "execute_result"
    }
   ],
   "source": [
    "# element indexing\n",
    "a1_m[:,0] # first column\n",
    "a1_m[0] # first row"
   ]
  },
  {
   "cell_type": "code",
   "execution_count": 67,
   "id": "627ab827-4a57-4d3c-b27b-b3e14510f01b",
   "metadata": {},
   "outputs": [
    {
     "data": {
      "text/plain": [
       "array([[4, 6, 4],\n",
       "       [1, 2, 2],\n",
       "       [6, 8, 7]])"
      ]
     },
     "execution_count": 67,
     "metadata": {},
     "output_type": "execute_result"
    }
   ],
   "source": [
    "a3 = np.array([[4,6,4],[1,2,2],[6,8,7]])\n",
    "a3"
   ]
  },
  {
   "cell_type": "code",
   "execution_count": 71,
   "id": "6f009e0e-2013-4e7a-965c-a1f29b626f38",
   "metadata": {},
   "outputs": [
    {
     "data": {
      "text/plain": [
       "array([2, 8])"
      ]
     },
     "execution_count": 71,
     "metadata": {},
     "output_type": "execute_result"
    }
   ],
   "source": [
    "# suppose we want [2,8]\n",
    "a3[1:,1] # equivalent to a3[1:][1]"
   ]
  },
  {
   "cell_type": "code",
   "execution_count": 75,
   "id": "cf226103-2137-46d7-b7e2-d4ad72290909",
   "metadata": {},
   "outputs": [
    {
     "data": {
      "text/plain": [
       "array([[1, 2],\n",
       "       [6, 8]])"
      ]
     },
     "execution_count": 75,
     "metadata": {},
     "output_type": "execute_result"
    }
   ],
   "source": [
    "# let's say we want the sub-array [1,2],[6,8]\n",
    "a3[1:,:2]"
   ]
  },
  {
   "cell_type": "markdown",
   "id": "79825c14-8377-4f6f-bdd9-50adb5deaa13",
   "metadata": {},
   "source": [
    "# Dealing with 2D functions"
   ]
  },
  {
   "cell_type": "markdown",
   "id": "2c39bad3-b6f7-40e5-b708-02a027475bd1",
   "metadata": {},
   "source": [
    "Function in 2 dimensions. Try this"
   ]
  },
  {
   "cell_type": "code",
   "execution_count": 81,
   "id": "58baf859-b59a-4e2c-bfe2-712038540cfa",
   "metadata": {},
   "outputs": [],
   "source": [
    "x = np.linspace(0,10,1000)\n",
    "y = np.linspace(0,5,500)"
   ]
  },
  {
   "cell_type": "code",
   "execution_count": 83,
   "id": "57db3825-00a2-4ab2-8eca-e7f43ee0ad99",
   "metadata": {},
   "outputs": [
    {
     "ename": "ValueError",
     "evalue": "operands could not be broadcast together with shapes (1000,) (500,) ",
     "output_type": "error",
     "traceback": [
      "\u001b[1;31m---------------------------------------------------------------------------\u001b[0m",
      "\u001b[1;31mValueError\u001b[0m                                Traceback (most recent call last)",
      "Cell \u001b[1;32mIn[83], line 1\u001b[0m\n\u001b[1;32m----> 1\u001b[0m z \u001b[38;5;241m=\u001b[39m x\u001b[38;5;241m*\u001b[39m\u001b[38;5;241m*\u001b[39m\u001b[38;5;241m2\u001b[39m \u001b[38;5;241m+\u001b[39my\u001b[38;5;241m*\u001b[39m\u001b[38;5;241m*\u001b[39m\u001b[38;5;241m2\u001b[39m\n",
      "\u001b[1;31mValueError\u001b[0m: operands could not be broadcast together with shapes (1000,) (500,) "
     ]
    }
   ],
   "source": [
    "z = x**2 +y**2"
   ]
  },
  {
   "cell_type": "markdown",
   "id": "0d24e969-123e-4cc8-b69f-9c00bc2765a2",
   "metadata": {},
   "source": [
    "So this returns an expected error since we do not have the same size. So the solution would be to provide the same size right ? Well no ... doing so would be like we would be adding two arrays (with different names yes but still 1D). So we do not achieve our goal to have a 2D array to represent our function. The solution -> `.meshgrid()`"
   ]
  },
  {
   "cell_type": "code",
   "execution_count": 86,
   "id": "949ccd90-fdb6-4416-97fe-2e7be81babcd",
   "metadata": {},
   "outputs": [],
   "source": [
    "xv, yv = np.meshgrid(x,y)"
   ]
  },
  {
   "cell_type": "code",
   "execution_count": 92,
   "id": "9ab8f3c5-da7e-46ff-9fb1-9dea72714945",
   "metadata": {},
   "outputs": [
    {
     "data": {
      "text/plain": [
       "(array([[ 0.        ,  0.01001001,  0.02002002, ...,  9.97997998,\n",
       "          9.98998999, 10.        ],\n",
       "        [ 0.        ,  0.01001001,  0.02002002, ...,  9.97997998,\n",
       "          9.98998999, 10.        ],\n",
       "        [ 0.        ,  0.01001001,  0.02002002, ...,  9.97997998,\n",
       "          9.98998999, 10.        ],\n",
       "        ...,\n",
       "        [ 0.        ,  0.01001001,  0.02002002, ...,  9.97997998,\n",
       "          9.98998999, 10.        ],\n",
       "        [ 0.        ,  0.01001001,  0.02002002, ...,  9.97997998,\n",
       "          9.98998999, 10.        ],\n",
       "        [ 0.        ,  0.01001001,  0.02002002, ...,  9.97997998,\n",
       "          9.98998999, 10.        ]]),\n",
       " (500, 1000))"
      ]
     },
     "execution_count": 92,
     "metadata": {},
     "output_type": "execute_result"
    }
   ],
   "source": [
    "xv, xv.shape"
   ]
  },
  {
   "cell_type": "code",
   "execution_count": 94,
   "id": "3f2e7588-9354-4897-9558-7c815fd02de2",
   "metadata": {},
   "outputs": [
    {
     "data": {
      "text/plain": [
       "(array([[0.        , 0.        , 0.        , ..., 0.        , 0.        ,\n",
       "         0.        ],\n",
       "        [0.01002004, 0.01002004, 0.01002004, ..., 0.01002004, 0.01002004,\n",
       "         0.01002004],\n",
       "        [0.02004008, 0.02004008, 0.02004008, ..., 0.02004008, 0.02004008,\n",
       "         0.02004008],\n",
       "        ...,\n",
       "        [4.97995992, 4.97995992, 4.97995992, ..., 4.97995992, 4.97995992,\n",
       "         4.97995992],\n",
       "        [4.98997996, 4.98997996, 4.98997996, ..., 4.98997996, 4.98997996,\n",
       "         4.98997996],\n",
       "        [5.        , 5.        , 5.        , ..., 5.        , 5.        ,\n",
       "         5.        ]]),\n",
       " (500, 1000))"
      ]
     },
     "execution_count": 94,
     "metadata": {},
     "output_type": "execute_result"
    }
   ],
   "source": [
    "yv, yv.shape"
   ]
  },
  {
   "cell_type": "code",
   "execution_count": 96,
   "id": "73dcd0b9-bb65-4c61-82ad-18ab5b8eabe0",
   "metadata": {},
   "outputs": [],
   "source": [
    "zv = xv**2 +yv**2"
   ]
  },
  {
   "cell_type": "code",
   "execution_count": 98,
   "id": "542afc7c-9187-4748-aad3-104e6f181fa7",
   "metadata": {},
   "outputs": [],
   "source": [
    "import matplotlib.pyplot as plt"
   ]
  },
  {
   "cell_type": "code",
   "execution_count": 102,
   "id": "e0b7cb83-5eb8-4287-86a5-2c1ae8fd6978",
   "metadata": {},
   "outputs": [
    {
     "data": {
      "text/plain": [
       "<matplotlib.colorbar.Colorbar at 0x1deb98a7740>"
      ]
     },
     "execution_count": 102,
     "metadata": {},
     "output_type": "execute_result"
    },
    {
     "data": {
      "image/png": "[encoded data removed]",
      "text/plain": [
       "<Figure size 640x480 with 2 Axes>"
      ]
     },
     "metadata": {},
     "output_type": "display_data"
    }
   ],
   "source": [
    "plt.contour(xv, yv, zv, levels=30)\n",
    "plt.colorbar()"
   ]
  },
  {
   "cell_type": "markdown",
   "id": "f3131dae-2884-4a16-88ed-1c39a2eabba3",
   "metadata": {},
   "source": [
    "# Basic linear Algebra"
   ]
  },
  {
   "cell_type": "markdown",
   "id": "1d070db3-6619-4c30-b926-222e46ca5799",
   "metadata": {},
   "source": [
    "**Note**: Scipy is really the module for this but we can use Numpy as well"
   ]
  },
  {
   "cell_type": "markdown",
   "id": "689fbce7-6232-413d-9b01-58ca24a4e509",
   "metadata": {},
   "source": [
    "## Matrix operations"
   ]
  },
  {
   "cell_type": "code",
   "execution_count": 107,
   "id": "3632464b-33c4-4237-b74f-31871d5c7e2f",
   "metadata": {},
   "outputs": [
    {
     "data": {
      "text/plain": [
       "array([[ 3,  2,  1],\n",
       "       [ 5, -5,  4],\n",
       "       [ 6,  0,  1]])"
      ]
     },
     "execution_count": 107,
     "metadata": {},
     "output_type": "execute_result"
    }
   ],
   "source": [
    "A = np.array([[3,2,1],[5,-5,4],[6,0,1]])\n",
    "A"
   ]
  },
  {
   "cell_type": "code",
   "execution_count": 109,
   "id": "7b5a6138-60a4-4825-a81f-de19b240edb1",
   "metadata": {},
   "outputs": [],
   "source": [
    "b1 = np.array([1,2,3])\n",
    "b2 = np.array([-1,2,-5])"
   ]
  },
  {
   "cell_type": "code",
   "execution_count": 111,
   "id": "7da96036-177f-4f9c-9450-8f746d93910b",
   "metadata": {},
   "outputs": [
    {
     "data": {
      "text/plain": [
       "array([10,  7,  9])"
      ]
     },
     "execution_count": 111,
     "metadata": {},
     "output_type": "execute_result"
    }
   ],
   "source": [
    "A@b1 "
   ]
  },
  {
   "cell_type": "code",
   "execution_count": 115,
   "id": "3103cecf-2d4a-42a2-8f4e-bb75fa946309",
   "metadata": {},
   "outputs": [
    {
     "data": {
      "text/plain": [
       "array([10,  7,  9])"
      ]
     },
     "execution_count": 115,
     "metadata": {},
     "output_type": "execute_result"
    }
   ],
   "source": [
    "np.dot(A,b1) # same as above"
   ]
  },
  {
   "cell_type": "code",
   "execution_count": 119,
   "id": "43e42fc2-c168-4f18-869a-5ce09d6f000e",
   "metadata": {},
   "outputs": [
    {
     "data": {
      "text/plain": [
       "array([[ 3,  5,  6],\n",
       "       [ 2, -5,  0],\n",
       "       [ 1,  4,  1]])"
      ]
     },
     "execution_count": 119,
     "metadata": {},
     "output_type": "execute_result"
    }
   ],
   "source": [
    "A.T"
   ]
  },
  {
   "cell_type": "code",
   "execution_count": 121,
   "id": "5fde0566-3fdc-4fe4-be99-0eb2c373efdd",
   "metadata": {},
   "outputs": [
    {
     "data": {
      "text/plain": [
       "array([[ 3,  5,  6],\n",
       "       [ 2, -5,  0],\n",
       "       [ 1,  4,  1]])"
      ]
     },
     "execution_count": 121,
     "metadata": {},
     "output_type": "execute_result"
    }
   ],
   "source": [
    "np.transpose(A)"
   ]
  },
  {
   "cell_type": "code",
   "execution_count": 123,
   "id": "9f547e91-1089-46c0-8603-fea08870f98d",
   "metadata": {},
   "outputs": [
    {
     "data": {
      "text/plain": [
       "array([-16,   2,   4])"
      ]
     },
     "execution_count": 123,
     "metadata": {},
     "output_type": "execute_result"
    }
   ],
   "source": [
    "np.cross(b1,b2)"
   ]
  },
  {
   "cell_type": "code",
   "execution_count": null,
   "id": "7fe41535-56ac-4505-b508-f9164f9148bc",
   "metadata": {},
   "outputs": [],
   "source": []
  },
  {
   "cell_type": "code",
   "execution_count": null,
   "id": "7417967f-2f84-4423-966b-99a7dd92de35",
   "metadata": {},
   "outputs": [],
   "source": []
  },
  {
   "cell_type": "markdown",
   "id": "f2e4f9d5-e947-411a-bf15-e9403c0e595c",
   "metadata": {},
   "source": [
    "## System of equations\n",
    "\n",
    "$$ \n",
    "\\begin{array}{rcr}\n",
    "3x + 2y +z &=& 4\\\\\n",
    "5x - 5y +4z &=& 3\\\\\n",
    "6x + z &=& 0\n",
    "\\end{array}\n",
    "$$"
   ]
  },
  {
   "cell_type": "code",
   "execution_count": 138,
   "id": "ef930d96-290c-4c21-bae2-5f5a58c8071b",
   "metadata": {},
   "outputs": [],
   "source": [
    "MatA = np.array([[3, 2, 1],[5, -5, 4],[6, 0, 1]])\n",
    "vecB = np.array([4,3,0])"
   ]
  },
  {
   "cell_type": "code",
   "execution_count": 140,
   "id": "2f7bd667-246a-46c9-ac22-411e3f669cd7",
   "metadata": {},
   "outputs": [],
   "source": [
    "sol = np.linalg.solve(MatA,vecB)"
   ]
  },
  {
   "cell_type": "code",
   "execution_count": 142,
   "id": "3e22c1b5-b65e-4560-8566-dc1409323c6b",
   "metadata": {},
   "outputs": [
    {
     "data": {
      "text/plain": [
       "array([-0.49056604,  1.26415094,  2.94339623])"
      ]
     },
     "execution_count": 142,
     "metadata": {},
     "output_type": "execute_result"
    }
   ],
   "source": [
    "sol"
   ]
  },
  {
   "cell_type": "markdown",
   "id": "43db6a5d-cd92-4dba-b72c-9437c497dbfe",
   "metadata": {},
   "source": [
    "## eigenvalues"
   ]
  },
  {
   "cell_type": "code",
   "execution_count": 149,
   "id": "75c1f521-8abc-4b97-a622-455a62102d94",
   "metadata": {},
   "outputs": [],
   "source": [
    "v, vec = np.linalg.eig(MatA)"
   ]
  },
  {
   "cell_type": "code",
   "execution_count": 151,
   "id": "9da44922-67c1-444e-8480-cd769cee41f8",
   "metadata": {},
   "outputs": [
    {
     "data": {
      "text/plain": [
       "array([ 5.98847677, -1.66137965, -5.32709712])"
      ]
     },
     "execution_count": 151,
     "metadata": {},
     "output_type": "execute_result"
    }
   ],
   "source": [
    "v"
   ]
  },
  {
   "cell_type": "code",
   "execution_count": 161,
   "id": "fa4d6aed-228a-44f9-85cc-70b0eb3288e5",
   "metadata": {},
   "outputs": [
    {
     "data": {
      "text/plain": [
       "array([-0.55522613, -0.49573499, -0.66781043])"
      ]
     },
     "execution_count": 161,
     "metadata": {},
     "output_type": "execute_result"
    }
   ],
   "source": [
    "eig1 = vec[:,0]\n",
    "eig2 = vec[:,1]\n",
    "eig3 = vec[:,2]\n",
    "eig1"
   ]
  },
  {
   "cell_type": "markdown",
   "id": "5f991489-e2f5-4f57-b345-c17cc93a4b63",
   "metadata": {},
   "source": [
    "**Note**: it seems that when evaluating the eigen vectors, the first column is the first eigen vector and not the first row !!!"
   ]
  },
  {
   "cell_type": "code",
   "execution_count": 166,
   "id": "573fbbbb-c35d-408c-9658-ed119d79cec7",
   "metadata": {},
   "outputs": [
    {
     "data": {
      "text/html": [
       "<img src=\"Capture.PNG\"/>"
      ],
      "text/plain": [
       "<IPython.core.display.Image object>"
      ]
     },
     "execution_count": 166,
     "metadata": {},
     "output_type": "execute_result"
    }
   ],
   "source": [
    "from IPython.display import Image\n",
    "Image(url=\"Capture.PNG\")"
   ]
  },
  {
   "cell_type": "code",
   "execution_count": 214,
   "id": "342b651f-3e61-4f83-8ef7-00e8dd66108a",
   "metadata": {},
   "outputs": [
    {
     "data": {
      "text/plain": [
       "array([-3.3249588 , -2.96869744, -3.99916722])"
      ]
     },
     "execution_count": 214,
     "metadata": {},
     "output_type": "execute_result"
    }
   ],
   "source": [
    "np.dot(MatA, eig1)"
   ]
  },
  {
   "cell_type": "code",
   "execution_count": 168,
   "id": "942739d5-c24d-430d-8f1b-cdf2138f97b7",
   "metadata": {},
   "outputs": [
    {
     "data": {
      "text/plain": [
       "array([-3.3249588 , -2.96869744, -3.99916722])"
      ]
     },
     "execution_count": 168,
     "metadata": {},
     "output_type": "execute_result"
    }
   ],
   "source": [
    "MatA@eig1"
   ]
  },
  {
   "cell_type": "code",
   "execution_count": 170,
   "id": "0a772cf8-c733-4607-8d51-cce558baaa31",
   "metadata": {},
   "outputs": [
    {
     "data": {
      "text/plain": [
       "array([-3.3249588 , -2.96869744, -3.99916722])"
      ]
     },
     "execution_count": 170,
     "metadata": {},
     "output_type": "execute_result"
    }
   ],
   "source": [
    "v[0]*eig1"
   ]
  },
  {
   "cell_type": "markdown",
   "id": "5bc945ce-8e9d-41d7-afa3-619a0aaa2fc6",
   "metadata": {},
   "source": [
    "# Examples\n",
    "\n",
    "Let: $$f(x,y) = e^{-(x^2+y^2)}\\cdot sin(x)$$ for $$-2\\leq x, y \\leq 2$$\n",
    "\n",
    "1. Make a contour plot of $f$\n",
    "2. Find the volume $|f(x,y)|$ in the specified $x$ and $y$ range\n",
    "3. Find the volume $|f(x,y)|$ only in the region where $\\sqrt{x^2+y^2}>0.$"
   ]
  },
  {
   "cell_type": "code",
   "execution_count": 226,
   "id": "a5e10f0d-012d-415b-9bee-f37561897c4a",
   "metadata": {},
   "outputs": [
    {
     "data": {
      "image/png": "[encoded data removed]",
      "text/plain": [
       "<Figure size 800x500 with 1 Axes>"
      ]
     },
     "metadata": {},
     "output_type": "display_data"
    }
   ],
   "source": [
    "# Q1\n",
    "def f(x,y):\n",
    "    return np.exp(-(x**2+y**2))*np.sin(x)\n",
    "    \n",
    "x = np.linspace(-2,2, 1000)\n",
    "y = np.linspace(-2,2, 1000) \n",
    "xv, yv = np.meshgrid(x,y)\n",
    "f = f(xv, yv)\n",
    "\n",
    "fig, ax = plt.subplots(figsize=(8,5))\n",
    "ax.contourf(xv,yv,f, levels=30)\n",
    "ax.set_xlabel(\"x\", fontsize=15)\n",
    "ax.set_ylabel(\"y\",fontsize=15)\n",
    "plt.colorbar\n",
    "plt.show()"
   ]
  },
  {
   "cell_type": "code",
   "execution_count": 229,
   "id": "24d988fd-c211-44a8-8420-a909e46a5da0",
   "metadata": {},
   "outputs": [
    {
     "data": {
      "text/plain": [
       "(1000, 1000)"
      ]
     },
     "execution_count": 229,
     "metadata": {},
     "output_type": "execute_result"
    }
   ],
   "source": [
    "f.shape"
   ]
  },
  {
   "cell_type": "code",
   "execution_count": 233,
   "id": "38d08159-1004-4d24-b4e8-027d75205da1",
   "metadata": {},
   "outputs": [
    {
     "data": {
      "text/plain": [
       "1.4861858145124311"
      ]
     },
     "execution_count": 233,
     "metadata": {},
     "output_type": "execute_result"
    }
   ],
   "source": [
    "#Q2\n",
    "dx = np.diff(x)[0]\n",
    "dy = np.diff(y)[0]\n",
    "integral = np.abs(f.ravel()).sum()*dx*dy\n",
    "integral"
   ]
  },
  {
   "cell_type": "code",
   "execution_count": 237,
   "id": "b4cf85ad-fc15-4126-9342-ec658ada47ff",
   "metadata": {},
   "outputs": [
    {
     "data": {
      "text/plain": [
       "1.282280763745288"
      ]
     },
     "execution_count": 237,
     "metadata": {},
     "output_type": "execute_result"
    }
   ],
   "source": [
    "#Q3\n",
    "f[xv**2+y**2 > 0.5**2]\n",
    "integral2 = np.abs(f[xv**2+y**2 > 0.5**2].ravel()).sum()*dx*dy\n",
    "integral2"
   ]
  },
  {
   "cell_type": "markdown",
   "id": "35a9530b-c725-4040-9c5a-ce9a094fca32",
   "metadata": {},
   "source": [
    "# Question 2\n",
    "$$\n",
    "\\begin{array}{rcr}\n",
    "3V_1 + 2V_2 + 3V_3 +10V_4 &=& 4\\\\\n",
    "2V_1 - 2V_2 + 5V_3 +8V_4 &=& 1\\\\\n",
    "3V_1 + 3V_2 + 4V_3 +9V_4 &=& 3\\\\\n",
    "3V_1 + 4V_2 - 3V_3 -7V_4 &=& 2\\\\\n",
    "\\end{array}\n",
    "$$"
   ]
  },
  {
   "cell_type": "code",
   "execution_count": 248,
   "id": "7e9f2e16-37e3-4a74-85fd-69360bfc7b26",
   "metadata": {},
   "outputs": [],
   "source": [
    "MatV = np.array([[3,2,3,10],[2,-2,5,8],[3,3,4,9],[3,4,-3,-7]])\n",
    "Ivec = np.array([4,1,3,2])\n",
    "\n",
    "vVec = np.linalg.solve(MatV, Ivec)"
   ]
  },
  {
   "cell_type": "code",
   "execution_count": 250,
   "id": "8f6022bb-9c12-421e-806e-bd5e964fd196",
   "metadata": {},
   "outputs": [
    {
     "data": {
      "text/plain": [
       "array([ 0.78378378,  0.03603604, -0.67567568,  0.36036036])"
      ]
     },
     "execution_count": 250,
     "metadata": {},
     "output_type": "execute_result"
    }
   ],
   "source": [
    "vVec"
   ]
  },
  {
   "cell_type": "markdown",
   "id": "fabb3550-6127-4bbd-babb-5756c63b9fda",
   "metadata": {},
   "source": [
    "# Question 3\n",
    "\n",
    "An electric field is given by \n",
    "$$ \\overrightarrow{E}(z,t) = E_0cos(z-t)\\hat{x} + 2E_0cos(z-t+\\pi/2)\\hat{y}$$ \n",
    "1. Find the magnetic field for all $z\\in[0,4\\pi]$ and $t \\in [0,10]$ using $c\\overrightarrow{B}(z,t) = \\hat{z} \\times \\overrightarrow{E}(z,t)$\n",
    "2. Compute the Poynting vector $\\overrightarrow{S} = \\overrightarrow{E} \\times \\overrightarrow{B}$ for all $z$ and $t$"
   ]
  },
  {
   "cell_type": "code",
   "execution_count": 264,
   "id": "54a50547-3f6f-48b2-9e6d-db883df19e75",
   "metadata": {},
   "outputs": [],
   "source": [
    "z = np.linspace(0, 4*np.pi, 100)\n",
    "t = np.linspace(0,10, 100)\n",
    "\n",
    "zv, tv = np.meshgrid(z,t)\n",
    "Ex = np.cos(zv-tv)\n",
    "Ey = 2*np.cos(zv-tv+np.pi/2)\n",
    "Ez = 0*tv"
   ]
  },
  {
   "cell_type": "markdown",
   "id": "4f3d9f5f-91db-4ddd-9324-931b52097918",
   "metadata": {},
   "source": [
    "$E_x$ as a function of t at $z=0$"
   ]
  },
  {
   "cell_type": "code",
   "execution_count": 271,
   "id": "026c163f-27a4-4ce4-94ea-72b4a2e0a812",
   "metadata": {},
   "outputs": [
    {
     "data": {
      "image/png": "[encoded data removed]",
      "text/plain": [
       "<Figure size 640x480 with 1 Axes>"
      ]
     },
     "metadata": {},
     "output_type": "display_data"
    }
   ],
   "source": [
    "plt.plot(t,Ex[1]);"
   ]
  },
  {
   "cell_type": "markdown",
   "id": "c2ed74aa-82f2-4ad5-aafd-789950975730",
   "metadata": {},
   "source": [
    "$E_x$ as a function of t at $t=0$"
   ]
  },
  {
   "cell_type": "code",
   "execution_count": 273,
   "id": "6a204dd1-8df4-4016-94e2-1e1526307a56",
   "metadata": {},
   "outputs": [
    {
     "data": {
      "text/plain": [
       "[<matplotlib.lines.Line2D at 0x1dedb9fb080>]"
      ]
     },
     "execution_count": 273,
     "metadata": {},
     "output_type": "execute_result"
    },
    {
     "data": {
      "image/png": "[encoded data removed]",
      "text/plain": [
       "<Figure size 640x480 with 1 Axes>"
      ]
     },
     "metadata": {},
     "output_type": "display_data"
    }
   ],
   "source": [
    "plt.plot(z, Ex[0])"
   ]
  },
  {
   "cell_type": "code",
   "execution_count": 280,
   "id": "7b486415-34cd-4f07-9944-f0e9d8b2d4d4",
   "metadata": {},
   "outputs": [],
   "source": [
    "E = np.array([Ex, Ey, Ez])\n",
    "E = np.swapaxes(E, 0, -1)"
   ]
  },
  {
   "cell_type": "code",
   "execution_count": 284,
   "id": "9d779d76-29e8-482d-9511-a3b5fa918985",
   "metadata": {},
   "outputs": [],
   "source": [
    "B = np.cross(np.array([0,0,1]),E)"
   ]
  },
  {
   "cell_type": "code",
   "execution_count": 286,
   "id": "43d6915c-4d5f-4c6d-9917-827d024b04f6",
   "metadata": {},
   "outputs": [],
   "source": [
    "B = np.swapaxes(B, 0, -1)"
   ]
  },
  {
   "cell_type": "code",
   "execution_count": 288,
   "id": "83e8872b-1859-41a0-96b1-e7815f383132",
   "metadata": {},
   "outputs": [],
   "source": [
    "Bx, By, Bz = B # unpack in each variable because we have three-D arrays"
   ]
  },
  {
   "cell_type": "markdown",
   "id": "830f9793-9fcd-44bf-8b91-944d2f1bef5d",
   "metadata": {},
   "source": [
    "# Question 4\n",
    "Find the solution to $\\left(\\frac{d^2}{dx^2}+(10x^2)\\right)f = \\lambda f$ with boundary conditions $f(0) = f(1) = 0$\n",
    "\n",
    "Use the eigenvalue method and the fact that $\\frac{d^2f}{dx^2}\\approx \\frac{f_{i+1}+f_{i-1}+2f_i}{\\Delta x^2}$ where $f_i = f(i\\Delta x)$ and $i$ is an internal "
   ]
  },
  {
   "cell_type": "code",
   "execution_count": 318,
   "id": "62bff692-a316-4b09-a004-65529e0f2ef4",
   "metadata": {},
   "outputs": [],
   "source": [
    "N = 1000\n",
    "x = np.linspace(0,1,N+1)\n",
    "dx = np.diff(x)[0]\n"
   ]
  },
  {
   "cell_type": "code",
   "execution_count": 320,
   "id": "96f97810-30a2-45f6-8ab3-dd12f771b680",
   "metadata": {},
   "outputs": [],
   "source": [
    "main_diag = -2*np.ones(N-1)\n",
    "off_diag = np.ones(N-2)\n",
    "derivative_matrix = (np.diag(main_diag) + np.diag(off_diag, -1) + np.diag(off_diag, 1))/dx**2"
   ]
  },
  {
   "cell_type": "code",
   "execution_count": 322,
   "id": "a4f6dcc7-0905-4780-b092-c7a5241a9768",
   "metadata": {},
   "outputs": [],
   "source": [
    "x2_matrix = np.diag((10*x[1:-1])**2)\n",
    "LHS_matrix = derivative_matrix + x2_matrix"
   ]
  },
  {
   "cell_type": "code",
   "execution_count": 328,
   "id": "5d8b6333-9036-4245-9876-f3ec81a4d52a",
   "metadata": {},
   "outputs": [],
   "source": [
    "w, v = np.linalg.eigh(LHS_matrix)"
   ]
  },
  {
   "cell_type": "code",
   "execution_count": 330,
   "id": "a40cc358-e0ec-487e-a832-f2f55acc93cf",
   "metadata": {},
   "outputs": [
    {
     "data": {
      "text/plain": [
       "29.855323222432386"
      ]
     },
     "execution_count": 330,
     "metadata": {},
     "output_type": "execute_result"
    }
   ],
   "source": [
    "w[-1]"
   ]
  },
  {
   "cell_type": "markdown",
   "id": "c17be3bf-8a91-42a1-b513-0a70425327a5",
   "metadata": {},
   "source": [
    "# Simple Data set\n",
    "\n",
    "´`names, heights = np.loadtex(path, dtype=\"object\", delimiter=\",\", unpack=True, skiprows=1)`\n",
    "\n",
    "* names = names.astype(str)\n",
    "* heights = names.astype(fload)"
   ]
  },
  {
   "cell_type": "code",
   "execution_count": null,
   "id": "b418c0c2-54e8-4498-9267-28b947db0661",
   "metadata": {},
   "outputs": [],
   "source": []
  },
  {
   "cell_type": "code",
   "execution_count": null,
   "id": "51b22038-aeff-409f-b92b-ab4b2672386f",
   "metadata": {},
   "outputs": [],
   "source": []
  },
  {
   "cell_type": "code",
   "execution_count": null,
   "id": "9372be64-9bff-46ea-8fc1-6f22f67d9c71",
   "metadata": {},
   "outputs": [],
   "source": []
  },
  {
   "cell_type": "code",
   "execution_count": null,
   "id": "1ddbcc42-29a4-46e8-98ab-db8b1060e72d",
   "metadata": {},
   "outputs": [],
   "source": []
  }
 ],
 "metadata": {
  "kernelspec": {
   "display_name": "Python 3 (ipykernel)",
   "language": "python",
   "name": "python3"
  },
  "language_info": {
   "codemirror_mode": {
    "name": "ipython",
    "version": 3
   },
   "file_extension": ".py",
   "mimetype": "text/x-python",
   "name": "python",
   "nbconvert_exporter": "python",
   "pygments_lexer": "ipython3",
   "version": "3.12.4"
  }
 },
 "nbformat": 4,
 "nbformat_minor": 5
}
